{
 "cells": [
  {
   "cell_type": "code",
   "execution_count": 2,
   "id": "17a2500f",
   "metadata": {},
   "outputs": [
    {
     "ename": "SyntaxError",
     "evalue": "invalid syntax (<ipython-input-2-909a97c26a65>, line 6)",
     "output_type": "error",
     "traceback": [
      "\u001b[1;36m  File \u001b[1;32m\"<ipython-input-2-909a97c26a65>\"\u001b[1;36m, line \u001b[1;32m6\u001b[0m\n\u001b[1;33m    pip install pyhdb\u001b[0m\n\u001b[1;37m        ^\u001b[0m\n\u001b[1;31mSyntaxError\u001b[0m\u001b[1;31m:\u001b[0m invalid syntax\n"
     ]
    }
   ],
   "source": [
    "import os\n",
    "import datetime\n",
    "import keyring\n",
    "import time\n",
    "import shutil\n",
    "from difflib import SequenceMatcher\n",
    "import difflib\n",
    "import pandas as pd\n",
    "pd.set_option(\"display.max_columns\", None) # To display all the columns in the output\n",
    "pd.set_option(\"display.max_rows\", None) # To display all the rows in the output\n",
    "import numpy as np\n",
    "pd.set_option('mode.chained_assignment', None)\n",
    "\n",
    "%matplotlib inline\n",
    "import matplotlib.pyplot as plt\n",
    "import seaborn as sns\n",
    "\n",
    "from openpyxl import load_workbook\n",
    "\n",
    "\n",
    "import pyhdb # python hana db connection\n",
    "from hdbcli import dbapi # SAP HANA database API\n",
    "\n",
    "# check versions\n",
    "print(f'Pandas version: {pd.__version__}')\n",
    "print(f'Numpy version: {np.__version__}')\n",
    "print(f'Seaborn version: {sns.__version__}')"
   ]
  },
  {
   "cell_type": "code",
   "execution_count": 7,
   "id": "f8a14268",
   "metadata": {},
   "outputs": [
    {
     "name": "stdout",
     "output_type": "stream",
     "text": [
      "Mon Aug 30 14:29:14 2021\n"
     ]
    }
   ],
   "source": [
    "# Date of last run\n",
    "print(datetime.datetime.now().ctime())"
   ]
  },
  {
   "cell_type": "code",
   "execution_count": 8,
   "id": "b47f63ee",
   "metadata": {},
   "outputs": [],
   "source": [
    "# Set Parameters\n",
    "country = \"Mali\" # set country name for the filter\n",
    "country_code = 'ML'\n",
    "project_name = 'Liste beneficiare Juin 2021'\n",
    "country_dir = \"../../COs/{}/{}/\".format(country, project_name)\n",
    "template_file = \"../../Templates/Importation Template.xlsx\"\n",
    "parquet_dir = \"../../COs/{}/parquets/\".format(country)\n",
    "data_dir = country_dir + \"data/\" #set output directory to place parquet\n",
    "output = country_dir + \"output/\"\n",
    "correct_length_of_CNI = 13"
   ]
  },
  {
   "cell_type": "code",
   "execution_count": 9,
   "id": "2d2a2b87",
   "metadata": {},
   "outputs": [
    {
     "name": "stdout",
     "output_type": "stream",
     "text": [
      "Your directory ../../COs/Mali/Liste beneficiare Juin 2021/ exists\n",
      "The data directory ../../COs/Mali/Liste beneficiare Juin 2021/data/ exists\n",
      "The output directory ../../COs/Mali/Liste beneficiare Juin 2021/output/ exists\n"
     ]
    },
    {
     "data": {
      "text/plain": [
       "'../../COs/Mali/Liste beneficiare Juin 2021/output/Importation Template.xlsx'"
      ]
     },
     "execution_count": 9,
     "metadata": {},
     "output_type": "execute_result"
    }
   ],
   "source": [
    "# Check if your directories exists\n",
    "if os.path.isdir(country_dir):\n",
    "    print('Your directory {} exists'.format(country_dir))\n",
    "    \n",
    "if os.path.isdir(data_dir):\n",
    "    print('The data directory {} exists'.format(data_dir))\n",
    "\n",
    "if os.path.isdir(output):\n",
    "    print('The output directory {} exists'.format(output))\n",
    "    \n",
    "shutil.copyfile(template_file, output+'Importation Template.xlsx')"
   ]
  },
  {
   "cell_type": "code",
   "execution_count": 89,
   "id": "626ed121",
   "metadata": {},
   "outputs": [],
   "source": [
    "#Helpers function\n",
    "def first_letters(s, num_letter=2):\n",
    "    return s.str[:num_letter].str.upper()\n",
    "\n",
    "def plotDataFrame_Bar(d,type , title):\n",
    "    fig, ax = plt.subplots(figsize =(16, 9))\n",
    "    ax.barh(d[type], d['Counts'])\n",
    "    for s in ['top', 'bottom', 'left', 'right']:\n",
    "        ax.spines[s].set_visible(False)\n",
    "        \n",
    "    x = d[type]\n",
    "    y = d['Counts']\n",
    "    # Set the x ticks\n",
    "    ax.set_yticks(d[type])\n",
    "    # Remove x, y Ticks\n",
    "    \n",
    "    ax.xaxis.set_ticks_position('none')\n",
    "    ax.yaxis.set_ticks_position('none')\n",
    "    \n",
    "    # add labels to the bar\n",
    "    \n",
    "    # Add padding between axes and labels\n",
    "    ax.xaxis.set_tick_params(pad = 10)\n",
    "    ax.yaxis.set_tick_params(pad = 1)\n",
    "    \n",
    "    # Add x, y gridlines\n",
    "    ax.grid(b= True, color ='blue', linestyle ='-.', linewidth =1, alpha = 0.2)\n",
    "    \n",
    "    for i in ax.patches:\n",
    "        plt.text(i.get_width()+0.2, i.get_y()+0.5,\n",
    "                 str(round((i.get_width()), 2)),\n",
    "                 fontsize = 10, fontweight ='bold',\n",
    "                 color ='grey')\n",
    "    \n",
    "    ax.set_title(title, loc='center',)\n",
    "    \n",
    "    plt.show()\n",
    "    \n",
    "def createDFforLengthDist(df, column, type):\n",
    "    d = (pd.value_counts(df[column].values, sort=True)).to_frame()\n",
    "    d.reset_index(inplace = True)\n",
    "    d = d.rename(columns={0:'Counts', 'index':type})\n",
    "    d = d.sort_values(by=type)\n",
    "    return d\n",
    "\n",
    "def removeUnnamedColumn(df):\n",
    "    for c in df.columns:\n",
    "        if c.__contains__('Unnamed'):\n",
    "            df.drop(c, inplace=True, axis=1)\n",
    "            \n",
    "def percentNullValues(df, column):\n",
    "    percent = round(df[column].isna().sum()/len(df) * 100, 2)\n",
    "    print(f'for the columns {column}, you have {percent} % null values')\n",
    "    \n",
    "def save_to_excel(df, filename):\n",
    "    df.to_excel(output + filename + '.xlsx')\n",
    "    \n",
    "def similar(a, b):\n",
    "    return SequenceMatcher(None, a, b).ratio()\n",
    "\n",
    "def wuzzyfuzzy(df1, df2):\n",
    "    myList = []\n",
    "    total = len(df1)\n",
    "    possibilities = list(df2.FDP.sort_values())\n",
    "\n",
    "    s = SequenceMatcher(isjunk=None, autojunk=False)\n",
    "\n",
    "    for idx1, df1_str in enumerate(df1.Location.str.capitalize()):\n",
    "        # get 1 best match that has a ratio of at least 0.7\n",
    "        best_match = difflib.get_close_matches(df1_str, possibilities, 1, 0.7)\n",
    "        s.set_seqs(df1_str, best_match)\n",
    "        myList.append(best_match)\n",
    "\n",
    "    return myList\n",
    "\n",
    "def createDFforLengthDist(df, column, type):\n",
    "    d = (pd.value_counts(df[column].values, sort=True)).to_frame()\n",
    "    d.reset_index(inplace = True)\n",
    "    d = d.rename(columns={0:'Counts', 'index':type})\n",
    "    d = d.sort_values(by=type)\n",
    "    return d"
   ]
  },
  {
   "cell_type": "code",
   "execution_count": 11,
   "id": "f19c102d",
   "metadata": {},
   "outputs": [
    {
     "data": {
      "text/html": [
       "<div>\n",
       "<style scoped>\n",
       "    .dataframe tbody tr th:only-of-type {\n",
       "        vertical-align: middle;\n",
       "    }\n",
       "\n",
       "    .dataframe tbody tr th {\n",
       "        vertical-align: top;\n",
       "    }\n",
       "\n",
       "    .dataframe thead th {\n",
       "        text-align: right;\n",
       "    }\n",
       "</style>\n",
       "<table border=\"1\" class=\"dataframe\">\n",
       "  <thead>\n",
       "    <tr style=\"text-align: right;\">\n",
       "      <th></th>\n",
       "      <th>Household Name</th>\n",
       "      <th>Location</th>\n",
       "      <th>Address</th>\n",
       "      <th>Household Size</th>\n",
       "      <th>Document Type</th>\n",
       "      <th>Document Num</th>\n",
       "      <th>Last Name</th>\n",
       "      <th>First Name</th>\n",
       "      <th>Middle Name</th>\n",
       "      <th>Household Role</th>\n",
       "      <th>Recipient</th>\n",
       "      <th>Gender</th>\n",
       "      <th>Marital Status</th>\n",
       "      <th>Date of Birth</th>\n",
       "      <th>Age</th>\n",
       "      <th>Phone Number</th>\n",
       "      <th>Mobile Number</th>\n",
       "      <th>Bank Account Number</th>\n",
       "      <th>Household Vulnerable</th>\n",
       "      <th>Language Code</th>\n",
       "      <th>E Card Status</th>\n",
       "      <th>Physical Disability Status</th>\n",
       "      <th>Mental Disability Status</th>\n",
       "      <th>Orphan</th>\n",
       "      <th>Height</th>\n",
       "      <th>Weight</th>\n",
       "      <th>MUAC</th>\n",
       "      <th>Breastfeeding</th>\n",
       "      <th>Malnourished</th>\n",
       "      <th>Pregnant</th>\n",
       "      <th>Qualified</th>\n",
       "      <th>photo_data</th>\n",
       "    </tr>\n",
       "  </thead>\n",
       "  <tbody>\n",
       "  </tbody>\n",
       "</table>\n",
       "</div>"
      ],
      "text/plain": [
       "Empty DataFrame\n",
       "Columns: [Household Name, Location, Address, Household Size, Document Type, Document Num, Last Name, First Name, Middle Name, Household Role, Recipient, Gender, Marital Status, Date of Birth, Age, Phone Number, Mobile Number, Bank Account Number, Household Vulnerable, Language Code, E Card Status, Physical Disability Status, Mental Disability Status, Orphan, Height, Weight, MUAC, Breastfeeding, Malnourished, Pregnant, Qualified, photo_data]\n",
       "Index: []"
      ]
     },
     "execution_count": 11,
     "metadata": {},
     "output_type": "execute_result"
    }
   ],
   "source": [
    "df_template = pd.read_excel(template_file, skiprows=1)\n",
    "removeUnnamedColumn(df_template)\n",
    "df_template.head()"
   ]
  },
  {
   "cell_type": "code",
   "execution_count": 40,
   "id": "0508f802",
   "metadata": {},
   "outputs": [
    {
     "name": "stderr",
     "output_type": "stream",
     "text": [
      "C:\\Program Files\\Python39\\lib\\site-packages\\openpyxl\\worksheet\\_reader.py:312: UserWarning: Data Validation extension is not supported and will be removed\n",
      "  warn(msg)\n"
     ]
    },
    {
     "name": "stdout",
     "output_type": "stream",
     "text": [
      "for the file Liste  IDP _ World Vision Juin  2021 -.xlsx the first column is Household Name at skiprows 0\n",
      "for the file Liste Bankass_Bankass-Segue_YAGTU_Juin 2021.xlsx the first column is Household Name at skiprows 0\n",
      "for the file Liste Bankass_Diallassagou_YAGTU_Juin 2021.xlsx the first column is Household Name at skiprows 0\n",
      "for the file Liste Bankass_Kani Bozon YAGTU_Juin 2021.xlsx the first column is Household Name at skiprows 0\n",
      "for the file Liste Bankass_Koulogon Habe_YAGTU_Juin 2021.xlsx the first column is Household Name at skiprows 0\n",
      "for the file Liste Bankass_Lessagou Habe_YAGTU_Juin 2021.xlsx the first column is Household Name at skiprows 0\n",
      "for the file Liste Bankass_Soubala-YAGTU_Juin 2021.xlsx the first column is Household Name at skiprows 0\n",
      "for the file Liste Bankass_TORI_YAGTU_Juin 2021.xlsx the first column is Household Name at skiprows 0\n",
      "for the file Liste Benef Juin IDP Douentza_GRADP.xlsx the first column is Household Name at skiprows 0\n",
      "for the file Liste beneficiaire Doucoumbo-Mopti.xlsx the first column is Household Name at skiprows 0\n",
      "for the file Liste de Niono _IDP_YAGTU_Juin 2021.xlsx the first column is Household Name at skiprows 0\n",
      "for the file Liste des Beneficiaires Bandiagara-Mopti.xlsx the first column is Household Name at skiprows 0\n",
      "for the file Liste Mopti_IDP Socoura_Juin_ 2021_YAGTU.xlsx the first column is Household Name at skiprows 0\n"
     ]
    }
   ],
   "source": [
    "dfi = []\n",
    "files = os.listdir(data_dir)\n",
    "for file in files:\n",
    "    if file.endswith('.xlsx'):\n",
    "        data = pd.read_excel(data_dir + file, skiprows=1)\n",
    "        for i in range(2):\n",
    "            print(f'for the file {os.path.basename(file)} the first column is {data.columns[0]} at skiprows {i}')\n",
    "            if data.columns[0] == 'Household Name':\n",
    "                data['Filename'] = os.path.basename(file)\n",
    "                dfi.append(data)\n",
    "                break\n",
    "            else:\n",
    "                data = pd.read_excel(data_dir + file, skiprows=i)\n",
    "                continue\n",
    "#    elif file.endswith('csv'):\n",
    "        #csv_data = pd.read_csv(data_dir + file, delimiter='\\t')\n",
    "        #csv_data['Filename'] = os.path.basename(file)\n",
    "        #dfi.append(csv_data)"
   ]
  },
  {
   "cell_type": "code",
   "execution_count": 41,
   "id": "bb67db81",
   "metadata": {
    "scrolled": true
   },
   "outputs": [
    {
     "data": {
      "text/plain": [
       "13"
      ]
     },
     "execution_count": 41,
     "metadata": {},
     "output_type": "execute_result"
    }
   ],
   "source": [
    "len(dfi)"
   ]
  },
  {
   "cell_type": "code",
   "execution_count": 42,
   "id": "0f6e15bd",
   "metadata": {},
   "outputs": [
    {
     "data": {
      "text/plain": [
       "pandas.core.frame.DataFrame"
      ]
     },
     "execution_count": 42,
     "metadata": {},
     "output_type": "execute_result"
    }
   ],
   "source": [
    "type(csv_data)"
   ]
  },
  {
   "cell_type": "code",
   "execution_count": 43,
   "id": "1fc04edd",
   "metadata": {},
   "outputs": [
    {
     "name": "stdout",
     "output_type": "stream",
     "text": [
      "['Liste  IDP _ World Vision Juin  2021 -.xlsx']\n",
      "['Liste Bankass_Bankass-Segue_YAGTU_Juin 2021.xlsx']\n",
      "['Liste Bankass_Diallassagou_YAGTU_Juin 2021.xlsx']\n",
      "['Liste Bankass_Kani Bozon YAGTU_Juin 2021.xlsx']\n",
      "['Liste Bankass_Koulogon Habe_YAGTU_Juin 2021.xlsx']\n",
      "['Liste Bankass_Lessagou Habe_YAGTU_Juin 2021.xlsx']\n",
      "['Liste Bankass_Soubala-YAGTU_Juin 2021.xlsx']\n",
      "['Liste Bankass_TORI_YAGTU_Juin 2021.xlsx']\n",
      "['Liste Benef Juin IDP Douentza_GRADP.xlsx']\n",
      "['Liste beneficiaire Doucoumbo-Mopti.xlsx']\n",
      "['Liste de Niono _IDP_YAGTU_Juin 2021.xlsx']\n",
      "['Liste des Beneficiaires Bandiagara-Mopti.xlsx']\n",
      "['Liste Mopti_IDP Socoura_Juin_ 2021_YAGTU.xlsx']\n"
     ]
    }
   ],
   "source": [
    "for i in dfi:\n",
    "    print(i.Filename.unique())"
   ]
  },
  {
   "cell_type": "code",
   "execution_count": 44,
   "id": "22a4d65d",
   "metadata": {},
   "outputs": [],
   "source": [
    "df = pd.concat(dfi)"
   ]
  },
  {
   "cell_type": "code",
   "execution_count": 45,
   "id": "5ad96c67",
   "metadata": {},
   "outputs": [],
   "source": [
    "df.reset_index(drop=True, inplace=True)"
   ]
  },
  {
   "cell_type": "code",
   "execution_count": 46,
   "id": "6940a07c",
   "metadata": {},
   "outputs": [
    {
     "name": "stdout",
     "output_type": "stream",
     "text": [
      "<class 'pandas.core.frame.DataFrame'>\n",
      "RangeIndex: 3880 entries, 0 to 3879\n",
      "Columns: 266 entries, Household Name to Filename\n",
      "dtypes: float64(252), object(14)\n",
      "memory usage: 7.9+ MB\n"
     ]
    }
   ],
   "source": [
    "df.info()"
   ]
  },
  {
   "cell_type": "code",
   "execution_count": 47,
   "id": "20950ded",
   "metadata": {},
   "outputs": [],
   "source": [
    "#Remove Unnamed Columns\n",
    "removeUnnamedColumn(df)"
   ]
  },
  {
   "cell_type": "code",
   "execution_count": 48,
   "id": "0543e1ee",
   "metadata": {},
   "outputs": [
    {
     "data": {
      "text/html": [
       "<div>\n",
       "<style scoped>\n",
       "    .dataframe tbody tr th:only-of-type {\n",
       "        vertical-align: middle;\n",
       "    }\n",
       "\n",
       "    .dataframe tbody tr th {\n",
       "        vertical-align: top;\n",
       "    }\n",
       "\n",
       "    .dataframe thead th {\n",
       "        text-align: right;\n",
       "    }\n",
       "</style>\n",
       "<table border=\"1\" class=\"dataframe\">\n",
       "  <thead>\n",
       "    <tr style=\"text-align: right;\">\n",
       "      <th></th>\n",
       "      <th>Household Name</th>\n",
       "      <th>Location</th>\n",
       "      <th>Address</th>\n",
       "      <th>Household Size</th>\n",
       "      <th>Document Type</th>\n",
       "      <th>Document Num</th>\n",
       "      <th>Last Name</th>\n",
       "      <th>First Name</th>\n",
       "      <th>Middle Name</th>\n",
       "      <th>Household Role</th>\n",
       "      <th>Recipient</th>\n",
       "      <th>Gender</th>\n",
       "      <th>Marital Status</th>\n",
       "      <th>Date of Birth</th>\n",
       "      <th>Age</th>\n",
       "      <th>Phone Number</th>\n",
       "      <th>Mobile Number</th>\n",
       "      <th>Bank Account Number</th>\n",
       "      <th>Household Vulnerable</th>\n",
       "      <th>Language Code</th>\n",
       "      <th>E Card Status</th>\n",
       "      <th>Physical Disability Status</th>\n",
       "      <th>Mental Disability Status</th>\n",
       "      <th>Orphan</th>\n",
       "      <th>Height</th>\n",
       "      <th>Weight</th>\n",
       "      <th>MUAC</th>\n",
       "      <th>Breastfeeding</th>\n",
       "      <th>Malnourished</th>\n",
       "      <th>Pregnant</th>\n",
       "      <th>Qualified</th>\n",
       "      <th>photo_data</th>\n",
       "      <th>Filename</th>\n",
       "    </tr>\n",
       "  </thead>\n",
       "  <tbody>\n",
       "  </tbody>\n",
       "</table>\n",
       "</div>"
      ],
      "text/plain": [
       "Empty DataFrame\n",
       "Columns: [Household Name, Location, Address, Household Size, Document Type, Document Num, Last Name, First Name, Middle Name, Household Role, Recipient, Gender, Marital Status, Date of Birth, Age, Phone Number, Mobile Number, Bank Account Number, Household Vulnerable, Language Code, E Card Status, Physical Disability Status, Mental Disability Status, Orphan, Height, Weight, MUAC, Breastfeeding, Malnourished, Pregnant, Qualified, photo_data, Filename]\n",
       "Index: []"
      ]
     },
     "execution_count": 48,
     "metadata": {},
     "output_type": "execute_result"
    }
   ],
   "source": [
    "df[df.Filename == 'test.csv']"
   ]
  },
  {
   "cell_type": "code",
   "execution_count": 49,
   "id": "e0c1b103",
   "metadata": {},
   "outputs": [],
   "source": [
    "df_original = df.copy()"
   ]
  },
  {
   "cell_type": "code",
   "execution_count": 50,
   "id": "a13bc592",
   "metadata": {},
   "outputs": [
    {
     "data": {
      "text/plain": [
       "(3880, 33)"
      ]
     },
     "execution_count": 50,
     "metadata": {},
     "output_type": "execute_result"
    }
   ],
   "source": [
    "df.shape"
   ]
  },
  {
   "cell_type": "code",
   "execution_count": 51,
   "id": "a5c7921a",
   "metadata": {
    "scrolled": true
   },
   "outputs": [
    {
     "name": "stdout",
     "output_type": "stream",
     "text": [
      "Household Name\n",
      "Location\n",
      "Address\n",
      "Household Size\n",
      "Document Type\n",
      "Document Num\n",
      "Last Name\n",
      "First Name\n",
      "Middle Name\n",
      "Household Role\n",
      "Recipient\n",
      "Gender\n",
      "Marital Status\n",
      "Date of Birth\n",
      "Age\n",
      "Phone Number\n",
      "Mobile Number\n",
      "Bank Account Number\n",
      "Household Vulnerable\n",
      "Language Code\n",
      "E Card Status\n",
      "Physical Disability Status\n",
      "Mental Disability Status\n",
      "Orphan\n",
      "Height\n",
      "Weight\n",
      "MUAC\n",
      "Breastfeeding\n",
      "Malnourished\n",
      "Pregnant\n",
      "Qualified\n",
      "photo_data\n",
      "Filename\n"
     ]
    }
   ],
   "source": [
    "for c in df.columns:\n",
    "    print(c)"
   ]
  },
  {
   "cell_type": "code",
   "execution_count": 52,
   "id": "55cd2498",
   "metadata": {},
   "outputs": [],
   "source": [
    "cols = ['Household Name', 'Location', 'Address',\n",
    "       'Household Size', 'Document Type', 'Document Num', 'Last Name', 'First Name',\n",
    "       'Middle Name', 'Household Role', 'Recipient', 'Gender', 'Marital Status',\n",
    "       'Date of Birth', 'Age', 'Phone Number', 'Mobile Number', 'Filename']"
   ]
  },
  {
   "cell_type": "code",
   "execution_count": 53,
   "id": "779dc489",
   "metadata": {},
   "outputs": [],
   "source": [
    "df = df[cols]"
   ]
  },
  {
   "cell_type": "code",
   "execution_count": 54,
   "id": "00ed32aa",
   "metadata": {},
   "outputs": [],
   "source": [
    "# Create the admins areas dataframe\n",
    "admin_areas = pd.read_excel('../../Admin_Areas/MALI.xlsx')"
   ]
  },
  {
   "cell_type": "markdown",
   "id": "1322d5a3",
   "metadata": {},
   "source": [
    "# Column Analysis"
   ]
  },
  {
   "cell_type": "markdown",
   "id": "30c65feb",
   "metadata": {},
   "source": [
    "## Location Name"
   ]
  },
  {
   "cell_type": "code",
   "execution_count": 55,
   "id": "8e9a0658",
   "metadata": {},
   "outputs": [
    {
     "data": {
      "text/plain": [
       "81"
      ]
     },
     "execution_count": 55,
     "metadata": {},
     "output_type": "execute_result"
    }
   ],
   "source": [
    "len(df.Location.unique())"
   ]
  },
  {
   "cell_type": "code",
   "execution_count": 49,
   "id": "17d2bc4b",
   "metadata": {
    "scrolled": true
   },
   "outputs": [
    {
     "data": {
      "text/plain": [
       "Kani bozon            550\n",
       "Segué                 300\n",
       "Tori                  281\n",
       "Diaba Peulh           243\n",
       "Diallassagou          126\n",
       "Lessagou Habe         116\n",
       "GATHI LOUMO           114\n",
       "Diaratoula            112\n",
       "Bandiagara commune    108\n",
       "Djenne                104\n",
       "Diondiori              94\n",
       "Finadji                74\n",
       "Koïna                  74\n",
       "Bossosso               65\n",
       "Sagnona                65\n",
       "Koulogon Habe          65\n",
       "Kita                   64\n",
       "Socoura                64\n",
       "Barbe                  61\n",
       "Afrar                  55\n",
       "Teoudi                 55\n",
       "Nawri                  54\n",
       "Bamako-Coura           53\n",
       "Kounaba                53\n",
       "Doungoura              52\n",
       "Gagna                  51\n",
       "Kemoye                 48\n",
       "Soumatogo              44\n",
       "Médina Coura           42\n",
       "Feyadji                42\n",
       "Douentza               41\n",
       "Doucoumbo              38\n",
       "Darnahim               36\n",
       "Soubala(Soubala)       33\n",
       "Tombouctou Coura       30\n",
       "Tahadjarte             30\n",
       "Komoguel               27\n",
       "Million Kin            25\n",
       "Wailirdé               23\n",
       "Taga                   21\n",
       "Kral 2                 20\n",
       "Bas Fond               20\n",
       "Sofara(FAKALA)         19\n",
       "Toulal sidi            17\n",
       "Toulel Sidi            17\n",
       "Dialangou              17\n",
       "Fayadji                16\n",
       "Koloye                 16\n",
       "DIOLLY                 16\n",
       "Sirifi Were            15\n",
       "Sare Mah               14\n",
       "Tahadiar               14\n",
       "Ouro Nema              14\n",
       "Siratinti              13\n",
       "Karal2                 12\n",
       "Mopti Hinde            10\n",
       "Sofara                 10\n",
       "Banguetaba              9\n",
       "Simabambara             9\n",
       "Takouti(Socoura)        7\n",
       "Sofara(FAKALA)          7\n",
       "Thiaboly                7\n",
       "Toulel sidi             6\n",
       "Falladji                5\n",
       "Bassabougou             5\n",
       "Kawral lI               4\n",
       "KANGOUROU               4\n",
       "Kawral II               3\n",
       "Pare                    3\n",
       "Toulal Sidi             3\n",
       "Bankass                 3\n",
       "Site Socoura            2\n",
       "Daranahim               1\n",
       "Frlladji                1\n",
       "Kounaba                 1\n",
       "Biba                    1\n",
       "Kita                    1\n",
       "koïna                   1\n",
       "Fiyadji                 1\n",
       " Nawri                  1\n",
       "Name: Location, dtype: int64"
      ]
     },
     "execution_count": 49,
     "metadata": {},
     "output_type": "execute_result"
    }
   ],
   "source": [
    "df['Location'].value_counts()"
   ]
  },
  {
   "cell_type": "code",
   "execution_count": 74,
   "id": "3b0b7426",
   "metadata": {},
   "outputs": [],
   "source": [
    "df['Location'] = df['Location'].str.strip()\n",
    "df['Location'] = df.Location.str.title()"
   ]
  },
  {
   "cell_type": "code",
   "execution_count": 75,
   "id": "8e0fad93",
   "metadata": {},
   "outputs": [
    {
     "name": "stdout",
     "output_type": "stream",
     "text": [
      "<class 'pandas.core.frame.DataFrame'>\n",
      "Int64Index: 243 entries, 0 to 612\n",
      "Data columns (total 19 columns):\n",
      " #   Column             Non-Null Count  Dtype  \n",
      "---  ------             --------------  -----  \n",
      " 0   Household Name     243 non-null    object \n",
      " 1   Location           243 non-null    object \n",
      " 2   Address            243 non-null    object \n",
      " 3   Household Size     243 non-null    float64\n",
      " 4   Document Type      243 non-null    object \n",
      " 5   Document Num       243 non-null    object \n",
      " 6   Last Name          243 non-null    object \n",
      " 7   First Name         243 non-null    object \n",
      " 8   Middle Name        7 non-null      object \n",
      " 9   Household Role     243 non-null    object \n",
      " 10  Recipient          243 non-null    object \n",
      " 11  Gender             243 non-null    object \n",
      " 12  Marital Status     243 non-null    object \n",
      " 13  Date of Birth      0 non-null      float64\n",
      " 14  Age                243 non-null    float64\n",
      " 15  Phone Number       0 non-null      object \n",
      " 16  Mobile Number      138 non-null    float64\n",
      " 17  Filename           243 non-null    object \n",
      " 18  isLocationCorrect  243 non-null    object \n",
      "dtypes: float64(4), object(15)\n",
      "memory usage: 38.0+ KB\n"
     ]
    }
   ],
   "source": [
    "diaba_peulh = df[df['Location'] == 'Diaba Peulh']\n",
    "diaba_peulh.info()"
   ]
  },
  {
   "cell_type": "code",
   "execution_count": 76,
   "id": "9e2c4f10",
   "metadata": {},
   "outputs": [],
   "source": [
    "df['isLocationCorrect'] = df[df['Location'].isin(admin_areas['FDP'])]['Location']"
   ]
  },
  {
   "cell_type": "code",
   "execution_count": 77,
   "id": "f9b3ac79",
   "metadata": {},
   "outputs": [
    {
     "data": {
      "text/plain": [
       "39"
      ]
     },
     "execution_count": 77,
     "metadata": {},
     "output_type": "execute_result"
    }
   ],
   "source": [
    "len(df['isLocationCorrect'].unique())"
   ]
  },
  {
   "cell_type": "code",
   "execution_count": 78,
   "id": "64ddc1f7",
   "metadata": {},
   "outputs": [
    {
     "data": {
      "text/plain": [
       "74"
      ]
     },
     "execution_count": 78,
     "metadata": {},
     "output_type": "execute_result"
    }
   ],
   "source": [
    "len(df['Location'].unique())"
   ]
  },
  {
   "cell_type": "code",
   "execution_count": 79,
   "id": "cec9fc02",
   "metadata": {},
   "outputs": [
    {
     "data": {
      "text/plain": [
       "52.7"
      ]
     },
     "execution_count": 79,
     "metadata": {},
     "output_type": "execute_result"
    }
   ],
   "source": [
    "round(len(df['isLocationCorrect'].unique())/len(df.Location.unique()) * 100 , 2)"
   ]
  },
  {
   "cell_type": "code",
   "execution_count": 80,
   "id": "c99e22a6",
   "metadata": {
    "scrolled": true
   },
   "outputs": [
    {
     "data": {
      "text/plain": [
       "Tori                281\n",
       "Diaba Peulh         243\n",
       "Diallassagou        126\n",
       "Gathi Loumo         114\n",
       "Diaratoula          112\n",
       "Djenne              104\n",
       "Diondiori            94\n",
       "Finadji              74\n",
       "Koulogon Habe        65\n",
       "Bossosso             65\n",
       "Socoura              64\n",
       "Barbe                61\n",
       "Afrar                55\n",
       "Teoudi               55\n",
       "Bamako-Coura         53\n",
       "Doungoura            52\n",
       "Gagna                51\n",
       "Soumatogo            44\n",
       "Feyadji              42\n",
       "Douentza             41\n",
       "Darnahim             36\n",
       "Soubala(Soubala)     33\n",
       "Sofara(Fakala)       26\n",
       "Wailirdé             23\n",
       "Taga                 21\n",
       "Toulal Sidi          20\n",
       "Dialangou            17\n",
       "Diolly               16\n",
       "Koloye               16\n",
       "Sirifi Were          15\n",
       "Sare Mah             14\n",
       "Ouro Nema            14\n",
       "Siratinti            13\n",
       "Takouti(Socoura)      7\n",
       "Bassabougou           5\n",
       "Kangourou             4\n",
       "Pare                  3\n",
       "Bankass               3\n",
       "Name: isLocationCorrect, dtype: int64"
      ]
     },
     "execution_count": 80,
     "metadata": {},
     "output_type": "execute_result"
    }
   ],
   "source": [
    "df['isLocationCorrect'].value_counts()"
   ]
  },
  {
   "cell_type": "code",
   "execution_count": 81,
   "id": "05f1a2c1",
   "metadata": {},
   "outputs": [],
   "source": [
    "df['isLocationCorrect'] = df['isLocationCorrect'].str.title()"
   ]
  },
  {
   "cell_type": "code",
   "execution_count": 82,
   "id": "556795a7",
   "metadata": {},
   "outputs": [],
   "source": [
    "df.drop(df[df.Location.isna()].index, inplace=True)"
   ]
  },
  {
   "cell_type": "code",
   "execution_count": 83,
   "id": "311d2f0e",
   "metadata": {},
   "outputs": [
    {
     "data": {
      "text/html": [
       "<div>\n",
       "<style scoped>\n",
       "    .dataframe tbody tr th:only-of-type {\n",
       "        vertical-align: middle;\n",
       "    }\n",
       "\n",
       "    .dataframe tbody tr th {\n",
       "        vertical-align: top;\n",
       "    }\n",
       "\n",
       "    .dataframe thead th {\n",
       "        text-align: right;\n",
       "    }\n",
       "</style>\n",
       "<table border=\"1\" class=\"dataframe\">\n",
       "  <thead>\n",
       "    <tr style=\"text-align: right;\">\n",
       "      <th></th>\n",
       "      <th>Household Name</th>\n",
       "      <th>Location</th>\n",
       "      <th>Address</th>\n",
       "      <th>Household Size</th>\n",
       "      <th>Document Type</th>\n",
       "      <th>Document Num</th>\n",
       "      <th>Last Name</th>\n",
       "      <th>First Name</th>\n",
       "      <th>Middle Name</th>\n",
       "      <th>Household Role</th>\n",
       "      <th>Recipient</th>\n",
       "      <th>Gender</th>\n",
       "      <th>Marital Status</th>\n",
       "      <th>Date of Birth</th>\n",
       "      <th>Age</th>\n",
       "      <th>Phone Number</th>\n",
       "      <th>Mobile Number</th>\n",
       "      <th>Filename</th>\n",
       "      <th>isLocationCorrect</th>\n",
       "    </tr>\n",
       "  </thead>\n",
       "  <tbody>\n",
       "  </tbody>\n",
       "</table>\n",
       "</div>"
      ],
      "text/plain": [
       "Empty DataFrame\n",
       "Columns: [Household Name, Location, Address, Household Size, Document Type, Document Num, Last Name, First Name, Middle Name, Household Role, Recipient, Gender, Marital Status, Date of Birth, Age, Phone Number, Mobile Number, Filename, isLocationCorrect]\n",
       "Index: []"
      ]
     },
     "execution_count": 83,
     "metadata": {},
     "output_type": "execute_result"
    }
   ],
   "source": [
    "df[df.Location.isna()]"
   ]
  },
  {
   "cell_type": "code",
   "execution_count": 90,
   "id": "6c941069",
   "metadata": {},
   "outputs": [
    {
     "data": {
      "text/html": [
       "<div>\n",
       "<style scoped>\n",
       "    .dataframe tbody tr th:only-of-type {\n",
       "        vertical-align: middle;\n",
       "    }\n",
       "\n",
       "    .dataframe tbody tr th {\n",
       "        vertical-align: top;\n",
       "    }\n",
       "\n",
       "    .dataframe thead th {\n",
       "        text-align: right;\n",
       "    }\n",
       "</style>\n",
       "<table border=\"1\" class=\"dataframe\">\n",
       "  <thead>\n",
       "    <tr style=\"text-align: right;\">\n",
       "      <th></th>\n",
       "      <th>Location</th>\n",
       "      <th>Filename</th>\n",
       "      <th>Similar</th>\n",
       "    </tr>\n",
       "  </thead>\n",
       "  <tbody>\n",
       "    <tr>\n",
       "      <th>173</th>\n",
       "      <td>Biba</td>\n",
       "      <td>Liste  IDP _ World Vision Juin  2021 -.xlsx</td>\n",
       "      <td>[Bilaba]</td>\n",
       "    </tr>\n",
       "    <tr>\n",
       "      <th>349</th>\n",
       "      <td>Koïna</td>\n",
       "      <td>Liste  IDP _ World Vision Juin  2021 -.xlsx</td>\n",
       "      <td>[Konza]</td>\n",
       "    </tr>\n",
       "    <tr>\n",
       "      <th>384</th>\n",
       "      <td>Simabambara</td>\n",
       "      <td>Liste  IDP _ World Vision Juin  2021 -.xlsx</td>\n",
       "      <td>[Sina Bambara]</td>\n",
       "    </tr>\n",
       "    <tr>\n",
       "      <th>516</th>\n",
       "      <td>Sofara</td>\n",
       "      <td>Liste  IDP _ World Vision Juin  2021 -.xlsx</td>\n",
       "      <td>[Selofara]</td>\n",
       "    </tr>\n",
       "    <tr>\n",
       "      <th>689</th>\n",
       "      <td>Kemoye</td>\n",
       "      <td>Liste  IDP _ World Vision Juin  2021 -.xlsx</td>\n",
       "      <td>[Kermoye]</td>\n",
       "    </tr>\n",
       "    <tr>\n",
       "      <th>690</th>\n",
       "      <td>Tahadjarte</td>\n",
       "      <td>Liste  IDP _ World Vision Juin  2021 -.xlsx</td>\n",
       "      <td>[Tahidjarte]</td>\n",
       "    </tr>\n",
       "    <tr>\n",
       "      <th>701</th>\n",
       "      <td>Kral 2</td>\n",
       "      <td>Liste  IDP _ World Vision Juin  2021 -.xlsx</td>\n",
       "      <td>[Karal I]</td>\n",
       "    </tr>\n",
       "    <tr>\n",
       "      <th>721</th>\n",
       "      <td>Karal2</td>\n",
       "      <td>Liste  IDP _ World Vision Juin  2021 -.xlsx</td>\n",
       "      <td>[Karsala]</td>\n",
       "    </tr>\n",
       "    <tr>\n",
       "      <th>755</th>\n",
       "      <td>Kita</td>\n",
       "      <td>Liste  IDP _ World Vision Juin  2021 -.xlsx</td>\n",
       "      <td>[Kita I]</td>\n",
       "    </tr>\n",
       "    <tr>\n",
       "      <th>856</th>\n",
       "      <td>Toulel Sidi</td>\n",
       "      <td>Liste  IDP _ World Vision Juin  2021 -.xlsx</td>\n",
       "      <td>[Toulal Sidi]</td>\n",
       "    </tr>\n",
       "    <tr>\n",
       "      <th>870</th>\n",
       "      <td>Fiyadji</td>\n",
       "      <td>Liste  IDP _ World Vision Juin  2021 -.xlsx</td>\n",
       "      <td>[Finadji]</td>\n",
       "    </tr>\n",
       "    <tr>\n",
       "      <th>1048</th>\n",
       "      <td>Daranahim</td>\n",
       "      <td>Liste  IDP _ World Vision Juin  2021 -.xlsx</td>\n",
       "      <td>[Darnahim]</td>\n",
       "    </tr>\n",
       "    <tr>\n",
       "      <th>1107</th>\n",
       "      <td>Frlladji</td>\n",
       "      <td>Liste  IDP _ World Vision Juin  2021 -.xlsx</td>\n",
       "      <td>[Tleladji]</td>\n",
       "    </tr>\n",
       "    <tr>\n",
       "      <th>1108</th>\n",
       "      <td>Falladji</td>\n",
       "      <td>Liste  IDP _ World Vision Juin  2021 -.xlsx</td>\n",
       "      <td>[Faladjie]</td>\n",
       "    </tr>\n",
       "    <tr>\n",
       "      <th>1113</th>\n",
       "      <td>Fayadji</td>\n",
       "      <td>Liste  IDP _ World Vision Juin  2021 -.xlsx</td>\n",
       "      <td>[Feyadji]</td>\n",
       "    </tr>\n",
       "    <tr>\n",
       "      <th>1140</th>\n",
       "      <td>Tahadiar</td>\n",
       "      <td>Liste  IDP _ World Vision Juin  2021 -.xlsx</td>\n",
       "      <td>[Tambadia]</td>\n",
       "    </tr>\n",
       "    <tr>\n",
       "      <th>1168</th>\n",
       "      <td>Kawral Ii</td>\n",
       "      <td>Liste  IDP _ World Vision Juin  2021 -.xlsx</td>\n",
       "      <td>[Karal Ii]</td>\n",
       "    </tr>\n",
       "    <tr>\n",
       "      <th>1169</th>\n",
       "      <td>Kawral Li</td>\n",
       "      <td>Liste  IDP _ World Vision Juin  2021 -.xlsx</td>\n",
       "      <td>[Karal Ii]</td>\n",
       "    </tr>\n",
       "    <tr>\n",
       "      <th>1280</th>\n",
       "      <td>Kounaba</td>\n",
       "      <td>Liste  IDP _ World Vision Juin  2021 -.xlsx</td>\n",
       "      <td>[Kounsala]</td>\n",
       "    </tr>\n",
       "    <tr>\n",
       "      <th>1286</th>\n",
       "      <td>Nawri</td>\n",
       "      <td>Liste  IDP _ World Vision Juin  2021 -.xlsx</td>\n",
       "      <td>[Nari]</td>\n",
       "    </tr>\n",
       "  </tbody>\n",
       "</table>\n",
       "</div>"
      ],
      "text/plain": [
       "         Location                                     Filename         Similar\n",
       "173          Biba  Liste  IDP _ World Vision Juin  2021 -.xlsx        [Bilaba]\n",
       "349         Koïna  Liste  IDP _ World Vision Juin  2021 -.xlsx         [Konza]\n",
       "384   Simabambara  Liste  IDP _ World Vision Juin  2021 -.xlsx  [Sina Bambara]\n",
       "516        Sofara  Liste  IDP _ World Vision Juin  2021 -.xlsx      [Selofara]\n",
       "689        Kemoye  Liste  IDP _ World Vision Juin  2021 -.xlsx       [Kermoye]\n",
       "690    Tahadjarte  Liste  IDP _ World Vision Juin  2021 -.xlsx    [Tahidjarte]\n",
       "701        Kral 2  Liste  IDP _ World Vision Juin  2021 -.xlsx       [Karal I]\n",
       "721        Karal2  Liste  IDP _ World Vision Juin  2021 -.xlsx       [Karsala]\n",
       "755          Kita  Liste  IDP _ World Vision Juin  2021 -.xlsx        [Kita I]\n",
       "856   Toulel Sidi  Liste  IDP _ World Vision Juin  2021 -.xlsx   [Toulal Sidi]\n",
       "870       Fiyadji  Liste  IDP _ World Vision Juin  2021 -.xlsx       [Finadji]\n",
       "1048    Daranahim  Liste  IDP _ World Vision Juin  2021 -.xlsx      [Darnahim]\n",
       "1107     Frlladji  Liste  IDP _ World Vision Juin  2021 -.xlsx      [Tleladji]\n",
       "1108     Falladji  Liste  IDP _ World Vision Juin  2021 -.xlsx      [Faladjie]\n",
       "1113      Fayadji  Liste  IDP _ World Vision Juin  2021 -.xlsx       [Feyadji]\n",
       "1140     Tahadiar  Liste  IDP _ World Vision Juin  2021 -.xlsx      [Tambadia]\n",
       "1168    Kawral Ii  Liste  IDP _ World Vision Juin  2021 -.xlsx      [Karal Ii]\n",
       "1169    Kawral Li  Liste  IDP _ World Vision Juin  2021 -.xlsx      [Karal Ii]\n",
       "1280      Kounaba  Liste  IDP _ World Vision Juin  2021 -.xlsx      [Kounsala]\n",
       "1286        Nawri  Liste  IDP _ World Vision Juin  2021 -.xlsx          [Nari]"
      ]
     },
     "execution_count": 90,
     "metadata": {},
     "output_type": "execute_result"
    }
   ],
   "source": [
    "incorrect_location = df[df['isLocationCorrect'].isna()][['Location', 'Filename']]\n",
    "incorrect_location = incorrect_location.drop_duplicates()\n",
    "incorrect_location['Similar'] = wuzzyfuzzy(incorrect_location, admin_areas)\n",
    "incorrect_location.head(20)"
   ]
  },
  {
   "cell_type": "code",
   "execution_count": 91,
   "id": "caffce7f",
   "metadata": {},
   "outputs": [],
   "source": [
    "save_to_excel(incorrect_location.sort_values(by='Location'), 'Incorrect Location')"
   ]
  },
  {
   "cell_type": "code",
   "execution_count": 81,
   "id": "9637aae7",
   "metadata": {
    "scrolled": true
   },
   "outputs": [
    {
     "data": {
      "text/html": [
       "<div>\n",
       "<style scoped>\n",
       "    .dataframe tbody tr th:only-of-type {\n",
       "        vertical-align: middle;\n",
       "    }\n",
       "\n",
       "    .dataframe tbody tr th {\n",
       "        vertical-align: top;\n",
       "    }\n",
       "\n",
       "    .dataframe thead th {\n",
       "        text-align: right;\n",
       "    }\n",
       "</style>\n",
       "<table border=\"1\" class=\"dataframe\">\n",
       "  <thead>\n",
       "    <tr style=\"text-align: right;\">\n",
       "      <th></th>\n",
       "      <th>Unnamed: 0</th>\n",
       "      <th>Region</th>\n",
       "      <th>Cercle</th>\n",
       "      <th>Commune</th>\n",
       "      <th>Village/Quartier</th>\n",
       "      <th>FDP</th>\n",
       "    </tr>\n",
       "  </thead>\n",
       "  <tbody>\n",
       "    <tr>\n",
       "      <th>5826</th>\n",
       "      <td>5092</td>\n",
       "      <td>Mopti</td>\n",
       "      <td>Tenenkou</td>\n",
       "      <td>Kareri</td>\n",
       "      <td>Feyadji</td>\n",
       "      <td>Feyadji</td>\n",
       "    </tr>\n",
       "  </tbody>\n",
       "</table>\n",
       "</div>"
      ],
      "text/plain": [
       "      Unnamed: 0 Region    Cercle Commune Village/Quartier      FDP\n",
       "5826        5092  Mopti  Tenenkou  Kareri          Feyadji  Feyadji"
      ]
     },
     "execution_count": 81,
     "metadata": {},
     "output_type": "execute_result"
    }
   ],
   "source": [
    "admin_areas[admin_areas['FDP'].str.lower() == 'Feyadji'.lower()]"
   ]
  },
  {
   "cell_type": "code",
   "execution_count": 92,
   "id": "f5544ea3",
   "metadata": {},
   "outputs": [
    {
     "data": {
      "text/plain": [
       "Household Name          0\n",
       "Location                0\n",
       "Address                41\n",
       "Household Size          0\n",
       "Document Type           0\n",
       "Document Num            0\n",
       "Last Name               6\n",
       "First Name              0\n",
       "Middle Name          3584\n",
       "Household Role          0\n",
       "Recipient               0\n",
       "Gender                  0\n",
       "Marital Status       1484\n",
       "Date of Birth        3878\n",
       "Age                     2\n",
       "Phone Number         3584\n",
       "Mobile Number        3396\n",
       "Filename                0\n",
       "isLocationCorrect    1796\n",
       "dtype: int64"
      ]
     },
     "execution_count": 92,
     "metadata": {},
     "output_type": "execute_result"
    }
   ],
   "source": [
    "df.isna().sum()"
   ]
  },
  {
   "cell_type": "code",
   "execution_count": 95,
   "id": "849b1955",
   "metadata": {},
   "outputs": [
    {
     "data": {
      "image/png": "[encoded data removed]",
      "text/plain": [
       "<Figure size 1152x720 with 1 Axes>"
      ]
     },
     "metadata": {
      "needs_background": "light"
     },
     "output_type": "display_data"
    }
   ],
   "source": [
    "ax = df.isna().sum().plot(kind='bar', figsize=(16, 10), width=0.75, x='HouseholdSize', y='Counts')\n",
    "for p in ax.patches:\n",
    "    ax.annotate(str(p.get_height()), (p.get_x() * 1.005, p.get_height() * 1.005))"
   ]
  },
  {
   "cell_type": "code",
   "execution_count": 96,
   "id": "36624c0a",
   "metadata": {
    "scrolled": true
   },
   "outputs": [
    {
     "data": {
      "text/html": [
       "<div>\n",
       "<style scoped>\n",
       "    .dataframe tbody tr th:only-of-type {\n",
       "        vertical-align: middle;\n",
       "    }\n",
       "\n",
       "    .dataframe tbody tr th {\n",
       "        vertical-align: top;\n",
       "    }\n",
       "\n",
       "    .dataframe thead th {\n",
       "        text-align: right;\n",
       "    }\n",
       "</style>\n",
       "<table border=\"1\" class=\"dataframe\">\n",
       "  <thead>\n",
       "    <tr style=\"text-align: right;\">\n",
       "      <th></th>\n",
       "      <th>Household Name</th>\n",
       "      <th>Location</th>\n",
       "      <th>Address</th>\n",
       "      <th>Household Size</th>\n",
       "      <th>Document Type</th>\n",
       "      <th>Document Num</th>\n",
       "      <th>Last Name</th>\n",
       "      <th>First Name</th>\n",
       "      <th>Middle Name</th>\n",
       "      <th>Household Role</th>\n",
       "      <th>Recipient</th>\n",
       "      <th>Gender</th>\n",
       "      <th>Marital Status</th>\n",
       "      <th>Date of Birth</th>\n",
       "      <th>Age</th>\n",
       "      <th>Phone Number</th>\n",
       "      <th>Mobile Number</th>\n",
       "      <th>Filename</th>\n",
       "      <th>isLocationCorrect</th>\n",
       "    </tr>\n",
       "  </thead>\n",
       "  <tbody>\n",
       "    <tr>\n",
       "      <th>889</th>\n",
       "      <td>HH-ML-MOP-0890</td>\n",
       "      <td>Darnahim</td>\n",
       "      <td>Kareri</td>\n",
       "      <td>9.0</td>\n",
       "      <td>WFP ID</td>\n",
       "      <td>ML-MOP-0861</td>\n",
       "      <td>NaN</td>\n",
       "      <td>A</td>\n",
       "      <td>NaN</td>\n",
       "      <td>HD</td>\n",
       "      <td>P</td>\n",
       "      <td>M</td>\n",
       "      <td>MA</td>\n",
       "      <td>NaN</td>\n",
       "      <td>41.0</td>\n",
       "      <td>NaN</td>\n",
       "      <td>NaN</td>\n",
       "      <td>Liste  IDP _ World Vision Juin  2021 -.xlsx</td>\n",
       "      <td>Darnahim</td>\n",
       "    </tr>\n",
       "    <tr>\n",
       "      <th>987</th>\n",
       "      <td>HH-ML-MOP-0988</td>\n",
       "      <td>Kita</td>\n",
       "      <td>Kareri</td>\n",
       "      <td>2.0</td>\n",
       "      <td>WFP ID</td>\n",
       "      <td>ML-MOP-0959</td>\n",
       "      <td>NaN</td>\n",
       "      <td>Tilel</td>\n",
       "      <td>NaN</td>\n",
       "      <td>HD</td>\n",
       "      <td>P</td>\n",
       "      <td>M</td>\n",
       "      <td>MA</td>\n",
       "      <td>NaN</td>\n",
       "      <td>27.0</td>\n",
       "      <td>NaN</td>\n",
       "      <td>NaN</td>\n",
       "      <td>Liste  IDP _ World Vision Juin  2021 -.xlsx</td>\n",
       "      <td>NaN</td>\n",
       "    </tr>\n",
       "    <tr>\n",
       "      <th>996</th>\n",
       "      <td>HH-ML-MOP-0997</td>\n",
       "      <td>Kita</td>\n",
       "      <td>Kareri</td>\n",
       "      <td>7.0</td>\n",
       "      <td>WFP ID</td>\n",
       "      <td>ML-MOP-0968</td>\n",
       "      <td>NaN</td>\n",
       "      <td>Imsabdar</td>\n",
       "      <td>NaN</td>\n",
       "      <td>HD</td>\n",
       "      <td>P</td>\n",
       "      <td>M</td>\n",
       "      <td>MA</td>\n",
       "      <td>NaN</td>\n",
       "      <td>40.0</td>\n",
       "      <td>NaN</td>\n",
       "      <td>NaN</td>\n",
       "      <td>Liste  IDP _ World Vision Juin  2021 -.xlsx</td>\n",
       "      <td>NaN</td>\n",
       "    </tr>\n",
       "    <tr>\n",
       "      <th>1010</th>\n",
       "      <td>HH-ML-MOP-1011</td>\n",
       "      <td>Finadji</td>\n",
       "      <td>Kareri</td>\n",
       "      <td>2.0</td>\n",
       "      <td>WFP ID</td>\n",
       "      <td>ML-MOP-0982</td>\n",
       "      <td>NaN</td>\n",
       "      <td>Soni</td>\n",
       "      <td>NaN</td>\n",
       "      <td>HD</td>\n",
       "      <td>P</td>\n",
       "      <td>M</td>\n",
       "      <td>MA</td>\n",
       "      <td>NaN</td>\n",
       "      <td>20.0</td>\n",
       "      <td>NaN</td>\n",
       "      <td>NaN</td>\n",
       "      <td>Liste  IDP _ World Vision Juin  2021 -.xlsx</td>\n",
       "      <td>Finadji</td>\n",
       "    </tr>\n",
       "    <tr>\n",
       "      <th>1182</th>\n",
       "      <td>HH-ML-MOP-1183</td>\n",
       "      <td>Afrar</td>\n",
       "      <td>Kareri</td>\n",
       "      <td>6.0</td>\n",
       "      <td>WFP ID</td>\n",
       "      <td>ML-MOP-1154</td>\n",
       "      <td>NaN</td>\n",
       "      <td>Zeinaba</td>\n",
       "      <td>NaN</td>\n",
       "      <td>HD</td>\n",
       "      <td>P</td>\n",
       "      <td>M</td>\n",
       "      <td>MA</td>\n",
       "      <td>NaN</td>\n",
       "      <td>38.0</td>\n",
       "      <td>NaN</td>\n",
       "      <td>NaN</td>\n",
       "      <td>Liste  IDP _ World Vision Juin  2021 -.xlsx</td>\n",
       "      <td>Afrar</td>\n",
       "    </tr>\n",
       "    <tr>\n",
       "      <th>1287</th>\n",
       "      <td>HH-ML-MOP-1288</td>\n",
       "      <td>Nawri</td>\n",
       "      <td>Kareri</td>\n",
       "      <td>0.0</td>\n",
       "      <td>WFP ID</td>\n",
       "      <td>ML-MOP-1259</td>\n",
       "      <td>NaN</td>\n",
       "      <td>Senou</td>\n",
       "      <td>NaN</td>\n",
       "      <td>HD</td>\n",
       "      <td>P</td>\n",
       "      <td>M</td>\n",
       "      <td>MA</td>\n",
       "      <td>NaN</td>\n",
       "      <td>25.0</td>\n",
       "      <td>NaN</td>\n",
       "      <td>NaN</td>\n",
       "      <td>Liste  IDP _ World Vision Juin  2021 -.xlsx</td>\n",
       "      <td>NaN</td>\n",
       "    </tr>\n",
       "  </tbody>\n",
       "</table>\n",
       "</div>"
      ],
      "text/plain": [
       "      Household Name  Location Address  Household Size Document Type  \\\n",
       "889   HH-ML-MOP-0890  Darnahim  Kareri             9.0        WFP ID   \n",
       "987   HH-ML-MOP-0988      Kita  Kareri             2.0        WFP ID   \n",
       "996   HH-ML-MOP-0997      Kita  Kareri             7.0        WFP ID   \n",
       "1010  HH-ML-MOP-1011   Finadji  Kareri             2.0        WFP ID   \n",
       "1182  HH-ML-MOP-1183     Afrar  Kareri             6.0        WFP ID   \n",
       "1287  HH-ML-MOP-1288     Nawri  Kareri             0.0        WFP ID   \n",
       "\n",
       "     Document Num Last Name First Name Middle Name Household Role Recipient  \\\n",
       "889   ML-MOP-0861       NaN          A         NaN             HD         P   \n",
       "987   ML-MOP-0959       NaN      Tilel         NaN             HD         P   \n",
       "996   ML-MOP-0968       NaN   Imsabdar         NaN             HD         P   \n",
       "1010  ML-MOP-0982       NaN       Soni         NaN             HD         P   \n",
       "1182  ML-MOP-1154       NaN    Zeinaba         NaN             HD         P   \n",
       "1287  ML-MOP-1259       NaN      Senou         NaN             HD         P   \n",
       "\n",
       "     Gender Marital Status  Date of Birth   Age Phone Number  Mobile Number  \\\n",
       "889       M             MA            NaN  41.0          NaN            NaN   \n",
       "987       M             MA            NaN  27.0          NaN            NaN   \n",
       "996       M             MA            NaN  40.0          NaN            NaN   \n",
       "1010      M             MA            NaN  20.0          NaN            NaN   \n",
       "1182      M             MA            NaN  38.0          NaN            NaN   \n",
       "1287      M             MA            NaN  25.0          NaN            NaN   \n",
       "\n",
       "                                         Filename isLocationCorrect  \n",
       "889   Liste  IDP _ World Vision Juin  2021 -.xlsx          Darnahim  \n",
       "987   Liste  IDP _ World Vision Juin  2021 -.xlsx               NaN  \n",
       "996   Liste  IDP _ World Vision Juin  2021 -.xlsx               NaN  \n",
       "1010  Liste  IDP _ World Vision Juin  2021 -.xlsx           Finadji  \n",
       "1182  Liste  IDP _ World Vision Juin  2021 -.xlsx             Afrar  \n",
       "1287  Liste  IDP _ World Vision Juin  2021 -.xlsx               NaN  "
      ]
     },
     "execution_count": 96,
     "metadata": {},
     "output_type": "execute_result"
    }
   ],
   "source": [
    "without_lastname = df[df['Last Name'].isna()]\n",
    "save_to_excel(without_lastname, 'Without Lastname')\n",
    "without_lastname"
   ]
  },
  {
   "cell_type": "code",
   "execution_count": 97,
   "id": "08f33aed",
   "metadata": {},
   "outputs": [
    {
     "data": {
      "text/plain": [
       "P    3878\n",
       "Name: Recipient, dtype: int64"
      ]
     },
     "execution_count": 97,
     "metadata": {},
     "output_type": "execute_result"
    }
   ],
   "source": [
    "df['Recipient'].value_counts()"
   ]
  },
  {
   "cell_type": "code",
   "execution_count": 98,
   "id": "40e5c47e",
   "metadata": {},
   "outputs": [
    {
     "data": {
      "text/plain": [
       "M     2010\n",
       "F     1866\n",
       " M       1\n",
       "f        1\n",
       "Name: Gender, dtype: int64"
      ]
     },
     "execution_count": 98,
     "metadata": {},
     "output_type": "execute_result"
    }
   ],
   "source": [
    "df['Gender'].value_counts()"
   ]
  },
  {
   "cell_type": "code",
   "execution_count": 99,
   "id": "bed6a735",
   "metadata": {},
   "outputs": [],
   "source": [
    "df['Gender'] = df['Gender'].str.strip()\n",
    "df['Gender'] = df['Gender'].str.capitalize()"
   ]
  },
  {
   "cell_type": "code",
   "execution_count": 100,
   "id": "c9a3badf",
   "metadata": {},
   "outputs": [
    {
     "data": {
      "text/plain": [
       "M    2011\n",
       "F    1867\n",
       "Name: Gender, dtype: int64"
      ]
     },
     "execution_count": 100,
     "metadata": {},
     "output_type": "execute_result"
    }
   ],
   "source": [
    "df['Gender'].value_counts()"
   ]
  },
  {
   "cell_type": "code",
   "execution_count": 101,
   "id": "c31460d9",
   "metadata": {},
   "outputs": [
    {
     "data": {
      "text/plain": [
       "0.8757091284167097"
      ]
     },
     "execution_count": 101,
     "metadata": {},
     "output_type": "execute_result"
    }
   ],
   "source": [
    "df['Mobile Number'].isna().sum()/ len(df)"
   ]
  },
  {
   "cell_type": "code",
   "execution_count": 110,
   "id": "0d81b3c8",
   "metadata": {},
   "outputs": [
    {
     "data": {
      "text/plain": [
       "dtype('float64')"
      ]
     },
     "execution_count": 110,
     "metadata": {},
     "output_type": "execute_result"
    }
   ],
   "source": [
    "df['Age'].dtype"
   ]
  },
  {
   "cell_type": "code",
   "execution_count": 117,
   "id": "29391f89",
   "metadata": {},
   "outputs": [],
   "source": [
    "df['Mobile Number Length'] = df['Mobile Number'].astype(str).str.len()"
   ]
  },
  {
   "cell_type": "code",
   "execution_count": 121,
   "id": "4f8b8308",
   "metadata": {},
   "outputs": [
    {
     "data": {
      "text/html": [
       "<div>\n",
       "<style scoped>\n",
       "    .dataframe tbody tr th:only-of-type {\n",
       "        vertical-align: middle;\n",
       "    }\n",
       "\n",
       "    .dataframe tbody tr th {\n",
       "        vertical-align: top;\n",
       "    }\n",
       "\n",
       "    .dataframe thead th {\n",
       "        text-align: right;\n",
       "    }\n",
       "</style>\n",
       "<table border=\"1\" class=\"dataframe\">\n",
       "  <thead>\n",
       "    <tr style=\"text-align: right;\">\n",
       "      <th></th>\n",
       "      <th>Household Name</th>\n",
       "      <th>Location</th>\n",
       "      <th>Address</th>\n",
       "      <th>Household Size</th>\n",
       "      <th>Document Type</th>\n",
       "      <th>Document Num</th>\n",
       "      <th>Last Name</th>\n",
       "      <th>First Name</th>\n",
       "      <th>Middle Name</th>\n",
       "      <th>Household Role</th>\n",
       "      <th>Recipient</th>\n",
       "      <th>Gender</th>\n",
       "      <th>Marital Status</th>\n",
       "      <th>Date of Birth</th>\n",
       "      <th>Age</th>\n",
       "      <th>Phone Number</th>\n",
       "      <th>Mobile Number</th>\n",
       "      <th>Filename</th>\n",
       "      <th>isLocationCorrect</th>\n",
       "      <th>Mobile Number Length</th>\n",
       "    </tr>\n",
       "  </thead>\n",
       "  <tbody>\n",
       "    <tr>\n",
       "      <th>3091</th>\n",
       "      <td>HH-MLMOPDOUE0001</td>\n",
       "      <td>Douentza</td>\n",
       "      <td>NaN</td>\n",
       "      <td>6.0</td>\n",
       "      <td>WFP ID</td>\n",
       "      <td>MLMOPDOUE0001</td>\n",
       "      <td>MAMOUDOU</td>\n",
       "      <td>Boura</td>\n",
       "      <td>NaN</td>\n",
       "      <td>HD</td>\n",
       "      <td>P</td>\n",
       "      <td>M</td>\n",
       "      <td>MA</td>\n",
       "      <td>NaN</td>\n",
       "      <td>29.0</td>\n",
       "      <td>NaN</td>\n",
       "      <td>+223759811</td>\n",
       "      <td>Liste Benef Juin IDP Douentza_GRADP.xlsx</td>\n",
       "      <td>Douentza</td>\n",
       "      <td>10</td>\n",
       "    </tr>\n",
       "    <tr>\n",
       "      <th>3092</th>\n",
       "      <td>HH-MLMOPDOUE0002</td>\n",
       "      <td>Douentza</td>\n",
       "      <td>NaN</td>\n",
       "      <td>6.0</td>\n",
       "      <td>WFP ID</td>\n",
       "      <td>MLMOPDOUE0002</td>\n",
       "      <td>BARRY</td>\n",
       "      <td>Hamadoun</td>\n",
       "      <td>NaN</td>\n",
       "      <td>HD</td>\n",
       "      <td>P</td>\n",
       "      <td>M</td>\n",
       "      <td>MA</td>\n",
       "      <td>NaN</td>\n",
       "      <td>40.0</td>\n",
       "      <td>NaN</td>\n",
       "      <td>+223771221</td>\n",
       "      <td>Liste Benef Juin IDP Douentza_GRADP.xlsx</td>\n",
       "      <td>Douentza</td>\n",
       "      <td>10</td>\n",
       "    </tr>\n",
       "    <tr>\n",
       "      <th>3093</th>\n",
       "      <td>HH-MLMOPDOUE0003</td>\n",
       "      <td>Douentza</td>\n",
       "      <td>NaN</td>\n",
       "      <td>6.0</td>\n",
       "      <td>WFP ID</td>\n",
       "      <td>MLMOPDOUE0003</td>\n",
       "      <td>BARRY</td>\n",
       "      <td>Hamidou</td>\n",
       "      <td>NaN</td>\n",
       "      <td>HD</td>\n",
       "      <td>P</td>\n",
       "      <td>M</td>\n",
       "      <td>MA</td>\n",
       "      <td>NaN</td>\n",
       "      <td>32.0</td>\n",
       "      <td>NaN</td>\n",
       "      <td>+223645641</td>\n",
       "      <td>Liste Benef Juin IDP Douentza_GRADP.xlsx</td>\n",
       "      <td>Douentza</td>\n",
       "      <td>10</td>\n",
       "    </tr>\n",
       "    <tr>\n",
       "      <th>3095</th>\n",
       "      <td>HH-MLMOPDOUE0005</td>\n",
       "      <td>Douentza</td>\n",
       "      <td>NaN</td>\n",
       "      <td>6.0</td>\n",
       "      <td>WFP ID</td>\n",
       "      <td>MLMOPDOUE0005</td>\n",
       "      <td>MAMOUDOU</td>\n",
       "      <td>Djibrilou</td>\n",
       "      <td>NaN</td>\n",
       "      <td>HD</td>\n",
       "      <td>P</td>\n",
       "      <td>M</td>\n",
       "      <td>MA</td>\n",
       "      <td>NaN</td>\n",
       "      <td>40.0</td>\n",
       "      <td>NaN</td>\n",
       "      <td>+223715921</td>\n",
       "      <td>Liste Benef Juin IDP Douentza_GRADP.xlsx</td>\n",
       "      <td>Douentza</td>\n",
       "      <td>10</td>\n",
       "    </tr>\n",
       "    <tr>\n",
       "      <th>3100</th>\n",
       "      <td>HH-MLMOPDOUE0010</td>\n",
       "      <td>Douentza</td>\n",
       "      <td>NaN</td>\n",
       "      <td>6.0</td>\n",
       "      <td>WFP ID</td>\n",
       "      <td>MLMOPDOUE0010</td>\n",
       "      <td>BARRY</td>\n",
       "      <td>Boucary</td>\n",
       "      <td>NaN</td>\n",
       "      <td>HD</td>\n",
       "      <td>P</td>\n",
       "      <td>M</td>\n",
       "      <td>MA</td>\n",
       "      <td>NaN</td>\n",
       "      <td>32.0</td>\n",
       "      <td>NaN</td>\n",
       "      <td>+223753857</td>\n",
       "      <td>Liste Benef Juin IDP Douentza_GRADP.xlsx</td>\n",
       "      <td>Douentza</td>\n",
       "      <td>10</td>\n",
       "    </tr>\n",
       "    <tr>\n",
       "      <th>3101</th>\n",
       "      <td>HH-MLMOPDOUE0011</td>\n",
       "      <td>Douentza</td>\n",
       "      <td>NaN</td>\n",
       "      <td>6.0</td>\n",
       "      <td>WFP ID</td>\n",
       "      <td>MLMOPDOUE0011</td>\n",
       "      <td>KERENA</td>\n",
       "      <td>Oumar</td>\n",
       "      <td>NaN</td>\n",
       "      <td>HD</td>\n",
       "      <td>P</td>\n",
       "      <td>M</td>\n",
       "      <td>MA</td>\n",
       "      <td>NaN</td>\n",
       "      <td>45.0</td>\n",
       "      <td>NaN</td>\n",
       "      <td>+223737593</td>\n",
       "      <td>Liste Benef Juin IDP Douentza_GRADP.xlsx</td>\n",
       "      <td>Douentza</td>\n",
       "      <td>10</td>\n",
       "    </tr>\n",
       "    <tr>\n",
       "      <th>3102</th>\n",
       "      <td>HH-MLMOPDOUE0012</td>\n",
       "      <td>Douentza</td>\n",
       "      <td>NaN</td>\n",
       "      <td>6.0</td>\n",
       "      <td>WFP ID</td>\n",
       "      <td>MLMOPDOUE0012</td>\n",
       "      <td>OUMAROU</td>\n",
       "      <td>Aly</td>\n",
       "      <td>NaN</td>\n",
       "      <td>HD</td>\n",
       "      <td>P</td>\n",
       "      <td>M</td>\n",
       "      <td>MA</td>\n",
       "      <td>NaN</td>\n",
       "      <td>23.0</td>\n",
       "      <td>NaN</td>\n",
       "      <td>+223737593</td>\n",
       "      <td>Liste Benef Juin IDP Douentza_GRADP.xlsx</td>\n",
       "      <td>Douentza</td>\n",
       "      <td>10</td>\n",
       "    </tr>\n",
       "    <tr>\n",
       "      <th>3103</th>\n",
       "      <td>HH-MLMOPDOUE0013</td>\n",
       "      <td>Douentza</td>\n",
       "      <td>NaN</td>\n",
       "      <td>6.0</td>\n",
       "      <td>WFP ID</td>\n",
       "      <td>MLMOPDOUE0013</td>\n",
       "      <td>BOKA</td>\n",
       "      <td>Amadou</td>\n",
       "      <td>NaN</td>\n",
       "      <td>HD</td>\n",
       "      <td>P</td>\n",
       "      <td>M</td>\n",
       "      <td>MA</td>\n",
       "      <td>NaN</td>\n",
       "      <td>43.0</td>\n",
       "      <td>NaN</td>\n",
       "      <td>+223711283</td>\n",
       "      <td>Liste Benef Juin IDP Douentza_GRADP.xlsx</td>\n",
       "      <td>Douentza</td>\n",
       "      <td>10</td>\n",
       "    </tr>\n",
       "    <tr>\n",
       "      <th>3105</th>\n",
       "      <td>HH-MLMOPDOUE0015</td>\n",
       "      <td>Douentza</td>\n",
       "      <td>NaN</td>\n",
       "      <td>6.0</td>\n",
       "      <td>WFP ID</td>\n",
       "      <td>MLMOPDOUE0015</td>\n",
       "      <td>AMADOU</td>\n",
       "      <td>Oumar</td>\n",
       "      <td>NaN</td>\n",
       "      <td>HD</td>\n",
       "      <td>P</td>\n",
       "      <td>M</td>\n",
       "      <td>MA</td>\n",
       "      <td>NaN</td>\n",
       "      <td>29.0</td>\n",
       "      <td>NaN</td>\n",
       "      <td>+223777561</td>\n",
       "      <td>Liste Benef Juin IDP Douentza_GRADP.xlsx</td>\n",
       "      <td>Douentza</td>\n",
       "      <td>10</td>\n",
       "    </tr>\n",
       "    <tr>\n",
       "      <th>3108</th>\n",
       "      <td>HH-MLMOPDOUE0018</td>\n",
       "      <td>Douentza</td>\n",
       "      <td>NaN</td>\n",
       "      <td>6.0</td>\n",
       "      <td>WFP ID</td>\n",
       "      <td>MLMOPDOUE0018</td>\n",
       "      <td>ALLAYE</td>\n",
       "      <td>Boura</td>\n",
       "      <td>NaN</td>\n",
       "      <td>HD</td>\n",
       "      <td>P</td>\n",
       "      <td>M</td>\n",
       "      <td>MA</td>\n",
       "      <td>NaN</td>\n",
       "      <td>55.0</td>\n",
       "      <td>NaN</td>\n",
       "      <td>+223626447</td>\n",
       "      <td>Liste Benef Juin IDP Douentza_GRADP.xlsx</td>\n",
       "      <td>Douentza</td>\n",
       "      <td>10</td>\n",
       "    </tr>\n",
       "    <tr>\n",
       "      <th>3123</th>\n",
       "      <td>HH-MLMOPDOUE0033</td>\n",
       "      <td>Douentza</td>\n",
       "      <td>NaN</td>\n",
       "      <td>6.0</td>\n",
       "      <td>WFP ID</td>\n",
       "      <td>MLMOPDOUE0033</td>\n",
       "      <td>AMADOU</td>\n",
       "      <td>Hama</td>\n",
       "      <td>NaN</td>\n",
       "      <td>HD</td>\n",
       "      <td>P</td>\n",
       "      <td>M</td>\n",
       "      <td>MA</td>\n",
       "      <td>NaN</td>\n",
       "      <td>45.0</td>\n",
       "      <td>NaN</td>\n",
       "      <td>+223754257</td>\n",
       "      <td>Liste Benef Juin IDP Douentza_GRADP.xlsx</td>\n",
       "      <td>Douentza</td>\n",
       "      <td>10</td>\n",
       "    </tr>\n",
       "    <tr>\n",
       "      <th>3125</th>\n",
       "      <td>HH-MLMOPDOUE0035</td>\n",
       "      <td>Douentza</td>\n",
       "      <td>NaN</td>\n",
       "      <td>6.0</td>\n",
       "      <td>WFP ID</td>\n",
       "      <td>MLMOPDOUE0035</td>\n",
       "      <td>BARRY</td>\n",
       "      <td>Kadidiatou</td>\n",
       "      <td>NaN</td>\n",
       "      <td>HD</td>\n",
       "      <td>P</td>\n",
       "      <td>M</td>\n",
       "      <td>MA</td>\n",
       "      <td>NaN</td>\n",
       "      <td>45.0</td>\n",
       "      <td>NaN</td>\n",
       "      <td>+223962751</td>\n",
       "      <td>Liste Benef Juin IDP Douentza_GRADP.xlsx</td>\n",
       "      <td>Douentza</td>\n",
       "      <td>10</td>\n",
       "    </tr>\n",
       "  </tbody>\n",
       "</table>\n",
       "</div>"
      ],
      "text/plain": [
       "        Household Name  Location Address  Household Size Document Type  \\\n",
       "3091  HH-MLMOPDOUE0001  Douentza     NaN             6.0        WFP ID   \n",
       "3092  HH-MLMOPDOUE0002  Douentza     NaN             6.0        WFP ID   \n",
       "3093  HH-MLMOPDOUE0003  Douentza     NaN             6.0        WFP ID   \n",
       "3095  HH-MLMOPDOUE0005  Douentza     NaN             6.0        WFP ID   \n",
       "3100  HH-MLMOPDOUE0010  Douentza     NaN             6.0        WFP ID   \n",
       "3101  HH-MLMOPDOUE0011  Douentza     NaN             6.0        WFP ID   \n",
       "3102  HH-MLMOPDOUE0012  Douentza     NaN             6.0        WFP ID   \n",
       "3103  HH-MLMOPDOUE0013  Douentza     NaN             6.0        WFP ID   \n",
       "3105  HH-MLMOPDOUE0015  Douentza     NaN             6.0        WFP ID   \n",
       "3108  HH-MLMOPDOUE0018  Douentza     NaN             6.0        WFP ID   \n",
       "3123  HH-MLMOPDOUE0033  Douentza     NaN             6.0        WFP ID   \n",
       "3125  HH-MLMOPDOUE0035  Douentza     NaN             6.0        WFP ID   \n",
       "\n",
       "       Document Num Last Name  First Name Middle Name Household Role  \\\n",
       "3091  MLMOPDOUE0001  MAMOUDOU       Boura         NaN             HD   \n",
       "3092  MLMOPDOUE0002     BARRY    Hamadoun         NaN             HD   \n",
       "3093  MLMOPDOUE0003     BARRY     Hamidou         NaN             HD   \n",
       "3095  MLMOPDOUE0005  MAMOUDOU   Djibrilou         NaN             HD   \n",
       "3100  MLMOPDOUE0010     BARRY     Boucary         NaN             HD   \n",
       "3101  MLMOPDOUE0011    KERENA       Oumar         NaN             HD   \n",
       "3102  MLMOPDOUE0012   OUMAROU         Aly         NaN             HD   \n",
       "3103  MLMOPDOUE0013      BOKA      Amadou         NaN             HD   \n",
       "3105  MLMOPDOUE0015    AMADOU       Oumar         NaN             HD   \n",
       "3108  MLMOPDOUE0018    ALLAYE       Boura         NaN             HD   \n",
       "3123  MLMOPDOUE0033    AMADOU        Hama         NaN             HD   \n",
       "3125  MLMOPDOUE0035     BARRY  Kadidiatou         NaN             HD   \n",
       "\n",
       "     Recipient Gender Marital Status  Date of Birth   Age Phone Number  \\\n",
       "3091         P      M             MA            NaN  29.0          NaN   \n",
       "3092         P      M             MA            NaN  40.0          NaN   \n",
       "3093         P      M             MA            NaN  32.0          NaN   \n",
       "3095         P      M             MA            NaN  40.0          NaN   \n",
       "3100         P      M             MA            NaN  32.0          NaN   \n",
       "3101         P      M             MA            NaN  45.0          NaN   \n",
       "3102         P      M             MA            NaN  23.0          NaN   \n",
       "3103         P      M             MA            NaN  43.0          NaN   \n",
       "3105         P      M             MA            NaN  29.0          NaN   \n",
       "3108         P      M             MA            NaN  55.0          NaN   \n",
       "3123         P      M             MA            NaN  45.0          NaN   \n",
       "3125         P      M             MA            NaN  45.0          NaN   \n",
       "\n",
       "     Mobile Number                                  Filename  \\\n",
       "3091    +223759811  Liste Benef Juin IDP Douentza_GRADP.xlsx   \n",
       "3092    +223771221  Liste Benef Juin IDP Douentza_GRADP.xlsx   \n",
       "3093    +223645641  Liste Benef Juin IDP Douentza_GRADP.xlsx   \n",
       "3095    +223715921  Liste Benef Juin IDP Douentza_GRADP.xlsx   \n",
       "3100    +223753857  Liste Benef Juin IDP Douentza_GRADP.xlsx   \n",
       "3101    +223737593  Liste Benef Juin IDP Douentza_GRADP.xlsx   \n",
       "3102    +223737593  Liste Benef Juin IDP Douentza_GRADP.xlsx   \n",
       "3103    +223711283  Liste Benef Juin IDP Douentza_GRADP.xlsx   \n",
       "3105    +223777561  Liste Benef Juin IDP Douentza_GRADP.xlsx   \n",
       "3108    +223626447  Liste Benef Juin IDP Douentza_GRADP.xlsx   \n",
       "3123    +223754257  Liste Benef Juin IDP Douentza_GRADP.xlsx   \n",
       "3125    +223962751  Liste Benef Juin IDP Douentza_GRADP.xlsx   \n",
       "\n",
       "     isLocationCorrect  Mobile Number Length  \n",
       "3091          Douentza                    10  \n",
       "3092          Douentza                    10  \n",
       "3093          Douentza                    10  \n",
       "3095          Douentza                    10  \n",
       "3100          Douentza                    10  \n",
       "3101          Douentza                    10  \n",
       "3102          Douentza                    10  \n",
       "3103          Douentza                    10  \n",
       "3105          Douentza                    10  \n",
       "3108          Douentza                    10  \n",
       "3123          Douentza                    10  \n",
       "3125          Douentza                    10  "
      ]
     },
     "execution_count": 121,
     "metadata": {},
     "output_type": "execute_result"
    }
   ],
   "source": [
    "df[df['Mobile Number Length'] == 10]"
   ]
  },
  {
   "cell_type": "code",
   "execution_count": 120,
   "id": "6fb84520",
   "metadata": {},
   "outputs": [
    {
     "data": {
      "text/html": [
       "<div>\n",
       "<style scoped>\n",
       "    .dataframe tbody tr th:only-of-type {\n",
       "        vertical-align: middle;\n",
       "    }\n",
       "\n",
       "    .dataframe tbody tr th {\n",
       "        vertical-align: top;\n",
       "    }\n",
       "\n",
       "    .dataframe thead th {\n",
       "        text-align: right;\n",
       "    }\n",
       "</style>\n",
       "<table border=\"1\" class=\"dataframe\">\n",
       "  <thead>\n",
       "    <tr style=\"text-align: right;\">\n",
       "      <th></th>\n",
       "      <th>Length</th>\n",
       "      <th>Counts</th>\n",
       "    </tr>\n",
       "  </thead>\n",
       "  <tbody>\n",
       "    <tr>\n",
       "      <th>0</th>\n",
       "      <td>0</td>\n",
       "      <td>3639</td>\n",
       "    </tr>\n",
       "    <tr>\n",
       "      <th>6</th>\n",
       "      <td>2</td>\n",
       "      <td>3</td>\n",
       "    </tr>\n",
       "    <tr>\n",
       "      <th>3</th>\n",
       "      <td>4</td>\n",
       "      <td>29</td>\n",
       "    </tr>\n",
       "    <tr>\n",
       "      <th>2</th>\n",
       "      <td>6</td>\n",
       "      <td>76</td>\n",
       "    </tr>\n",
       "    <tr>\n",
       "      <th>1</th>\n",
       "      <td>8</td>\n",
       "      <td>103</td>\n",
       "    </tr>\n",
       "    <tr>\n",
       "      <th>7</th>\n",
       "      <td>9</td>\n",
       "      <td>1</td>\n",
       "    </tr>\n",
       "    <tr>\n",
       "      <th>5</th>\n",
       "      <td>10</td>\n",
       "      <td>12</td>\n",
       "    </tr>\n",
       "    <tr>\n",
       "      <th>8</th>\n",
       "      <td>11</td>\n",
       "      <td>1</td>\n",
       "    </tr>\n",
       "    <tr>\n",
       "      <th>4</th>\n",
       "      <td>12</td>\n",
       "      <td>14</td>\n",
       "    </tr>\n",
       "  </tbody>\n",
       "</table>\n",
       "</div>"
      ],
      "text/plain": [
       "   Length  Counts\n",
       "0       0    3639\n",
       "6       2       3\n",
       "3       4      29\n",
       "2       6      76\n",
       "1       8     103\n",
       "7       9       1\n",
       "5      10      12\n",
       "8      11       1\n",
       "4      12      14"
      ]
     },
     "execution_count": 120,
     "metadata": {},
     "output_type": "execute_result"
    }
   ],
   "source": [
    "createDFforLengthDist(df, 'Mobile Number Length', 'Length')"
   ]
  },
  {
   "cell_type": "code",
   "execution_count": 122,
   "id": "c59a3559",
   "metadata": {},
   "outputs": [],
   "source": [
    "df.loc[df['Mobile Number Length'].isin([3]), 'Mobile Number'] = ''\n",
    "df.loc[df['Mobile Number Length'] < 10, 'Mobile Number'] = ''"
   ]
  },
  {
   "cell_type": "code",
   "execution_count": 123,
   "id": "f4f8580e",
   "metadata": {},
   "outputs": [],
   "source": [
    "df.loc[df['Mobile Number'].astype(str).str.startswith('9999'), 'Mobile Number'] = ''\n"
   ]
  },
  {
   "cell_type": "code",
   "execution_count": 124,
   "id": "db7e2430",
   "metadata": {},
   "outputs": [
    {
     "data": {
      "text/plain": [
       "Series([], Name: Mobile Number, dtype: object)"
      ]
     },
     "execution_count": 124,
     "metadata": {},
     "output_type": "execute_result"
    }
   ],
   "source": [
    "df[df['Mobile Number'].astype(str).str.startswith('9999')]['Mobile Number']"
   ]
  },
  {
   "cell_type": "code",
   "execution_count": 125,
   "id": "53d64f11",
   "metadata": {},
   "outputs": [],
   "source": [
    "df.loc[df['Mobile Number'].astype(str).str.startswith('223'), 'Mobile Number'] = '+' + df['Mobile Number'].astype('str')"
   ]
  },
  {
   "cell_type": "code",
   "execution_count": 126,
   "id": "0260c676",
   "metadata": {},
   "outputs": [
    {
     "name": "stderr",
     "output_type": "stream",
     "text": [
      "<ipython-input-126-f6546ed50fa4>:1: FutureWarning: The default value of regex will change from True to False in a future version.\n",
      "  df['Mobile Number'] = df['Mobile Number'].astype(str).str.replace('.0', '')\n"
     ]
    }
   ],
   "source": [
    "df['Mobile Number'] = df['Mobile Number'].astype(str).str.replace('.0', '')"
   ]
  },
  {
   "cell_type": "code",
   "execution_count": 127,
   "id": "0a4badd5",
   "metadata": {},
   "outputs": [
    {
     "data": {
      "text/plain": [
       "1.0"
      ]
     },
     "execution_count": 127,
     "metadata": {},
     "output_type": "execute_result"
    }
   ],
   "source": [
    "len(df['Household Name'].unique())/len(df)"
   ]
  },
  {
   "cell_type": "markdown",
   "id": "bebe452f",
   "metadata": {},
   "source": [
    "# Create the SCOPE Template"
   ]
  },
  {
   "cell_type": "code",
   "execution_count": 129,
   "id": "744adbb7",
   "metadata": {},
   "outputs": [],
   "source": [
    "df_template['Household Name'] = df['Household Name']\n",
    "df_template['Location'] = df['Location']\n",
    "df_template['Address'] = df['Address']\n",
    "df_template['Household Size'] = df['Household Size']\n",
    "df_template['Document Type'] = df['Document Type']\n",
    "df_template['Document Num'] = df['Document Num']\n",
    "df_template['Last Name'] = df['Last Name']\n",
    "df_template['First Name'] = df['First Name']\n",
    "df_template['Middle Name'] = df['Middle Name']\n",
    "df_template['Household Role'] = df['Household Role']\n",
    "df_template['Recipient'] = df['Recipient']\n",
    "df_template['Gender'] = df['Gender']\n",
    "df_template['Marital Status'] = df['Marital Status']\n",
    "df_template['Date of Birth'] = df['Date of Birth']\n",
    "df_template['Age'] = df['Age']\n",
    "df_template['Mobile Number'] = df['Mobile Number']"
   ]
  },
  {
   "cell_type": "code",
   "execution_count": 152,
   "id": "88726d45",
   "metadata": {},
   "outputs": [],
   "source": [
    "df_template.to_excel(output+project_name+'_template.xlsx')"
   ]
  },
  {
   "cell_type": "code",
   "execution_count": 130,
   "id": "77477bc0",
   "metadata": {},
   "outputs": [
    {
     "name": "stderr",
     "output_type": "stream",
     "text": [
      "C:\\Program Files\\Python39\\lib\\site-packages\\openpyxl\\worksheet\\_reader.py:312: UserWarning: Unknown extension is not supported and will be removed\n",
      "  warn(msg)\n"
     ]
    }
   ],
   "source": [
    "book = load_workbook(output + 'Importation Template.xlsx')\n",
    "writer = pd.ExcelWriter(output + 'Importation Template.xlsx', engine='openpyxl') \n",
    "writer.book = book\n",
    "\n",
    "writer.sheets = dict((ws.title, ws) for ws in book.worksheets)\n",
    "\n",
    "df_template.to_excel(writer, index= False, sheet_name= \"Data\", startrow=2)\n",
    "\n",
    "writer.save()\n",
    "writer.close()"
   ]
  },
  {
   "cell_type": "code",
   "execution_count": null,
   "id": "2929817e",
   "metadata": {},
   "outputs": [],
   "source": []
  }
 ],
 "metadata": {
  "kernelspec": {
   "display_name": "Python 3",
   "language": "python",
   "name": "python3"
  },
  "language_info": {
   "codemirror_mode": {
    "name": "ipython",
    "version": 3
   },
   "file_extension": ".py",
   "mimetype": "text/x-python",
   "name": "python",
   "nbconvert_exporter": "python",
   "pygments_lexer": "ipython3",
   "version": "3.8.8"
  }
 },
 "nbformat": 4,
 "nbformat_minor": 5
}
